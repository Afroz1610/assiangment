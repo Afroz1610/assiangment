{
 "cells": [
  {
   "cell_type": "markdown",
   "id": "a1b4c50c-18ec-4030-8597-249af85ba4c7",
   "metadata": {},
   "source": [
    "Assignment Question and Anwser"
   ]
  },
  {
   "cell_type": "raw",
   "id": "9c288163-e07e-4a6f-8043-3766c1796271",
   "metadata": {},
   "source": [
    "1. Who developed Python Programming Language? "
   ]
  },
  {
   "cell_type": "raw",
   "id": "afe709b8-4dfa-49d3-bf73-e361b80701b8",
   "metadata": {},
   "source": [
    "This Python Language developed by Guido van Rossum and it released in 1991"
   ]
  },
  {
   "cell_type": "raw",
   "id": "d4f5eae3-440f-439c-8729-0a2c9a0962e9",
   "metadata": {},
   "source": [
    "2. Which type of Programming does Python support?"
   ]
  },
  {
   "cell_type": "raw",
   "id": "efb45e08-de09-44ee-9c8c-85f811cf23b5",
   "metadata": {},
   "source": [
    "ans= Python is an interpreted programming, it supporting Object-oriented,structured and Function programming"
   ]
  },
  {
   "cell_type": "raw",
   "id": "57673e1c-7296-40b1-8039-0fc72f98050d",
   "metadata": {},
   "source": [
    "3.Is Python case sensitive when dealing with identifiers?"
   ]
  },
  {
   "cell_type": "raw",
   "id": "927a1c35-4f67-4e0c-9e2f-d57deb1e0153",
   "metadata": {},
   "source": [
    "ans= Yes Python is case sensitive "
   ]
  },
  {
   "cell_type": "raw",
   "id": "051b409e-2a6c-4837-9fe4-4532e20f4585",
   "metadata": {},
   "source": [
    "4. What is the correct extension of the Python file? \n"
   ]
  },
  {
   "cell_type": "raw",
   "id": "b6e090da-aade-4228-82ec-f5bdc7ab0db1",
   "metadata": {},
   "source": [
    "ans4= the correct extention is .py of the Python file"
   ]
  },
  {
   "cell_type": "raw",
   "id": "87841737-4ff9-45f1-a3c3-2613a505d7bd",
   "metadata": {},
   "source": [
    "5. Is Python code compiled or interpreted?"
   ]
  },
  {
   "cell_type": "raw",
   "id": "ea4ee97a-8b39-464a-a0f8-b54d97a3c4d9",
   "metadata": {},
   "source": [
    "ans5 Yes Python is interpreted"
   ]
  },
  {
   "cell_type": "raw",
   "id": "89b70038-7314-4e85-9ed1-9711ed415d9f",
   "metadata": {},
   "source": [
    "6. Name a few blocks of code used to define in Python language?"
   ]
  },
  {
   "cell_type": "raw",
   "id": "3b3a59fe-c7ad-41b5-b5d6-9c4fbaed6e48",
   "metadata": {},
   "source": [
    "ans6 = A few block of code are : a module, a function body, and class definition "
   ]
  },
  {
   "cell_type": "raw",
   "id": "667aa695-3724-4960-8c63-46d07c547e4e",
   "metadata": {},
   "source": [
    "7. State a character used to give single-line comments in Python? "
   ]
  },
  {
   "cell_type": "raw",
   "id": "e7b85e48-a7a9-443c-bc64-62e9ba463935",
   "metadata": {},
   "source": [
    "Ans7= Hash sybmol # "
   ]
  },
  {
   "cell_type": "raw",
   "id": "b8b9df0a-e30e-4502-9d11-f390748bb5a7",
   "metadata": {},
   "source": [
    "8. Mention functions which can help us to find the version of python that we are currently working on? "
   ]
  },
  {
   "cell_type": "raw",
   "id": "45ce8ff2-da71-4c40-9ba5-244247cc9546",
   "metadata": {},
   "source": [
    "Ans8= Python --version"
   ]
  },
  {
   "cell_type": "raw",
   "id": "09f59d87-6ea2-425f-9ae3-09372a24859f",
   "metadata": {},
   "source": [
    "9. Python supports the creation of anonymous functions at runtime, using a construct called"
   ]
  },
  {
   "cell_type": "raw",
   "id": "4e4417d1-d505-4d88-9a4d-21a6d668d63c",
   "metadata": {},
   "source": [
    "Ans9 = called \"Lambda\""
   ]
  },
  {
   "cell_type": "raw",
   "id": "51cced0a-4768-4ad6-aecd-7d88c9ff44f9",
   "metadata": {},
   "source": [
    "10. What does pip stand for python?"
   ]
  },
  {
   "cell_type": "raw",
   "id": "21c507c0-3502-4a2f-84dd-0345fb967fd0",
   "metadata": {},
   "source": [
    "Ans10= pip stand for python is preferred installer pyrogram and Pip is a package-management system written in Python and is used to install and manage software packages"
   ]
  },
  {
   "cell_type": "raw",
   "id": "06797120-8de2-47d0-8c8f-e86331f0fa12",
   "metadata": {},
   "source": [
    "11. Mention a few built-in functions in python?"
   ]
  },
  {
   "cell_type": "raw",
   "id": "5dfc1696-ecfe-4f2c-afdb-90cc6ddfacf0",
   "metadata": {},
   "source": [
    "Ans11= A few built in function like print(),type(),input(), etc more"
   ]
  },
  {
   "cell_type": "raw",
   "id": "276dbbbd-a796-4a5e-8cf6-7c653e9cc774",
   "metadata": {},
   "source": [
    "12. What is the maximum possible length of an identifier in Python?"
   ]
  },
  {
   "cell_type": "raw",
   "id": "31a46ceb-848e-49dd-9f45-1fcfe04fe25e",
   "metadata": {},
   "source": [
    "Ans12= The maximum possible lenght of identifier in Python is 79 character"
   ]
  },
  {
   "cell_type": "raw",
   "id": "812a28aa-7d5f-439f-bb97-647dee40e5e0",
   "metadata": {},
   "source": [
    "13. What are the benefits of using Python?"
   ]
  },
  {
   "cell_type": "raw",
   "id": "87f3272c-b6bb-4900-bc4a-bb01024efac5",
   "metadata": {},
   "source": [
    "Ans13= There are many benefits of using python \n",
    "it is very simple to Use and Understand. For newcomers, Python is simple to understand and use\n",
    "and interpreted language\n",
    "extensive libarary"
   ]
  },
  {
   "cell_type": "raw",
   "id": "53fa2aa0-546d-4316-ad16-fa03a4ecd64d",
   "metadata": {},
   "source": [
    "14. How is memory managed in Python?"
   ]
  },
  {
   "cell_type": "raw",
   "id": "747f8c45-3c9b-4038-a162-1191f13880a3",
   "metadata": {},
   "source": [
    "Ans14= Memory in Python is managed by Python private heap space. All Python objects and data structures are located in a private heap. This private heap is taken care of by Python Interpreter itself, and a programmer doesn't have access to this private heap"
   ]
  },
  {
   "cell_type": "raw",
   "id": "67285d5e-a751-4cd1-a1f7-b8dfa23c1976",
   "metadata": {},
   "source": [
    "15. How to install Python on Windows and set path variables?"
   ]
  },
  {
   "cell_type": "raw",
   "id": "52d37fff-485a-4485-a14e-dde24f0fc82f",
   "metadata": {},
   "source": [
    "Ans15= In the section entitled User Variables, double-click on the entry that says Path. Another window will pop up showing a list of paths. Click the New button and paste the path to your Python executable there. Once that's inserted, select your newly added path and click the Move Up button until it's at the top"
   ]
  },
  {
   "cell_type": "raw",
   "id": "33be8f2a-917a-48f4-82a2-b21b02dac172",
   "metadata": {},
   "source": [
    "16. Is indentation required in python? "
   ]
  },
  {
   "cell_type": "raw",
   "id": "dc3216c6-f7bb-4808-a1c0-8f55f6aac769",
   "metadata": {},
   "source": [
    "Ans16= Yes indentation is mandatory  in python"
   ]
  }
 ],
 "metadata": {
  "kernelspec": {
   "display_name": "Python 3 (ipykernel)",
   "language": "python",
   "name": "python3"
  },
  "language_info": {
   "codemirror_mode": {
    "name": "ipython",
    "version": 3
   },
   "file_extension": ".py",
   "mimetype": "text/x-python",
   "name": "python",
   "nbconvert_exporter": "python",
   "pygments_lexer": "ipython3",
   "version": "3.10.8"
  }
 },
 "nbformat": 4,
 "nbformat_minor": 5
}
